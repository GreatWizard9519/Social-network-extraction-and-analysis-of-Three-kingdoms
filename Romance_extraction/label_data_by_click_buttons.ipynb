{
 "cells": [
  {
   "cell_type": "markdown",
   "metadata": {},
   "source": [
    "# Label speaker by click buttons\n",
    "\n",
    "By LongGang Pang\n",
    "\n",
    "Try to use the widgets in jupyter notebook to design one software to label the data using clicking on \n",
    "buttons."
   ]
  },
  {
   "cell_type": "code",
   "execution_count": 1,
   "metadata": {},
   "outputs": [],
   "source": [
    "from sanguo import talks"
   ]
  },
  {
   "cell_type": "code",
   "execution_count": 2,
   "metadata": {},
   "outputs": [
    {
     "name": "stderr",
     "output_type": "stream",
     "text": [
      "/Users/zhangchenhan/anaconda3/lib/python3.6/site-packages/IPython/html.py:14: ShimWarning: The `IPython.html` package has been deprecated since IPython 4.0. You should import from `notebook` instead. `IPython.html.widgets` has moved to `ipywidgets`.\n",
      "  \"`IPython.html.widgets` has moved to `ipywidgets`.\", ShimWarning)\n"
     ]
    }
   ],
   "source": [
    "from ipywidgets import *\n",
    "from IPython.display import display\n",
    "from IPython.html import widgets\n",
    "from IPython.display import clear_output\n",
    "import json\n",
    "import ast\n",
    "# displaying the labelling widget\n",
    "##text = widgets.Text(description=\"Label the speaker by clicking buttons\", width=200)\n",
    "##display(text)"
   ]
  },
  {
   "cell_type": "code",
   "execution_count": 3,
   "metadata": {},
   "outputs": [],
   "source": [
    "def check_existence(sentence, idx, saved_file=\"label_sanguo.txt\"):\n",
    "    speakers = []\n",
    "    contexts = []\n",
    "    combined_res = [] \n",
    "    # combine N speakers with M contexts to get N*M examples\n",
    "    with open(saved_file, \"r\") as f:\n",
    "        lines = f.readlines()\n",
    "        for line in lines:\n",
    "            #res = json.loads(line)\n",
    "            res = ast.literal_eval(line)\n",
    "            speakers.append(res['speaker'])\n",
    "            ctx = res['context']\n",
    "            ctx_left = ctx[:res[\"istart\"]]\n",
    "            ctx_right = ctx[res[\"iend\"]:]\n",
    "            contexts.append([ctx_left, ctx_right, res[\"istart\"]])\n",
    "            \n",
    "    for speaker in speakers:\n",
    "        for ctx in contexts:\n",
    "            try:\n",
    "                new_ctx = ctx[0] + speaker + ctx[1]\n",
    "                istart = ctx[2]\n",
    "                new_iend = istart + len(speaker)\n",
    "                res = {'uid':0, \n",
    "                   'context':new_ctx,\n",
    "                   'speaker':speaker,\n",
    "                   'istart':istart, \n",
    "                   'iend':new_iend}\n",
    "                combined_res.append(res)\n",
    "                #print(res)\n",
    "                if sentence == res['context']:\n",
    "                    print(\"This item exist:\", sentence)\n",
    "                    res['uid'] = idx\n",
    "                    return True, res\n",
    "            except:\n",
    "                continue\n",
    "    #print(combined_res)\n",
    "    return False, None\n",
    "\n",
    "#check_existence(\"fdsa\", 0)"
   ]
  },
  {
   "cell_type": "code",
   "execution_count": 4,
   "metadata": {},
   "outputs": [],
   "source": [
    "class ToButtons(object):\n",
    "    def __init__(self, input_str):\n",
    "        self.input_str = input_str\n",
    "        self.res = None\n",
    "        self.buttons = []\n",
    "        self.pos_labels = []\n",
    "        item_layout = Layout(height='40px', min_width='40px', max_width='40px')\n",
    "        items = [Button(layout=item_layout, \n",
    "                        description=input_str[i],\n",
    "                        tooltip = str(i),\n",
    "                        button_style='info')\n",
    "                 for i in range(len(input_str))]\n",
    "        print(input_str)\n",
    "        \n",
    "        box_layout = Layout(\n",
    "                    border='3px solid black',\n",
    "                    width='800px',\n",
    "                    height='',\n",
    "                    flex_flow='row wrap',\n",
    "                    display='flex')\n",
    "        carousel = Box(children=items, layout=box_layout)\n",
    "        display(carousel)\n",
    "        \n",
    "        for item in items[:-2]:\n",
    "            item.on_click(self.on_button_clicked)\n",
    "        \n",
    "            \n",
    "    # function to deal with the checkbox update button       \n",
    "    def on_button_clicked(self, b):\n",
    "        self.pos_labels.append(int(b.tooltip))\n",
    "        if len(self.pos_labels) > 2:\n",
    "            #raise ValueError(\"only click the start and the end word\")\n",
    "            print(\"Warning: click more than 2 times, will use the last click \\\n",
    "                  as the end of the label position\")\n",
    "            \n",
    "    def return_results(self):\n",
    "        if len(self.pos_labels) == 0:\n",
    "            self.pos_labels.append(-1)\n",
    "        return self.input_str, self.pos_labels[0], self.pos_labels[-1]+1\n",
    "\n",
    "\n",
    "    \n",
    "class LabelSpeaker(object):\n",
    "    def __init__(self, talk_list, progress=0, save_to='label_sanguo.txt'):\n",
    "        self.progress = progress\n",
    "        self.saving_path = save_to\n",
    "        self.talk_list = talk_list\n",
    "        self.sentence_buttons = ToButtons(talk_list[self.progress]['context'])\n",
    "        self.submit_layout = Layout(height='40px', min_width='40px')\n",
    "        self.submit = Button(layout=self.submit_layout, \n",
    "                        description=\"submit\",\n",
    "                       button_style='warning')\n",
    "        self.submit.on_click(self.on_button_submit)\n",
    "        display(self.submit)        \n",
    "\n",
    "        \n",
    "    def save_one_item(self, progress, sentence, istart, iend):\n",
    "        speaker = None\n",
    "        if istart != -1: speaker = sentence[istart:iend]\n",
    "        res = {'uid':progress, 'context':sentence,\n",
    "               'speaker':speaker,\n",
    "               'istart':istart, 'iend':iend}\n",
    "        with open(self.saving_path, 'a') as f:\n",
    "            f.write(res.__repr__())\n",
    "            f.write('\\n')\n",
    "        \n",
    "    def on_button_submit(self, b):\n",
    "        sentence, istart, iend = self.sentence_buttons.return_results()\n",
    "        print(sentence[istart:iend])\n",
    "        self.save_one_item(self.progress, sentence, istart, iend)\n",
    "        clear_output()\n",
    "        while True:\n",
    "            self.progress = self.progress + 1\n",
    "            new_sentence = self.talk_list[self.progress]['context']\n",
    "            existed, res = check_existence(new_sentence, self.progress)\n",
    "            if existed: \n",
    "                self.save_one_item(self.progress, new_sentence,\n",
    "                                      res['istart'], res['iend'])\n",
    "            else:\n",
    "                break\n",
    "        #### after check exist \n",
    "        self.sentence_buttons = ToButtons(new_sentence)\n",
    "        self.submit = Button(layout=self.submit_layout, \n",
    "                        description=\"submit\",\n",
    "                       button_style='warning')\n",
    "        self.submit.on_click(self.on_button_submit)\n",
    "        display(self.submit)"
   ]
  },
  {
   "cell_type": "markdown",
   "metadata": {},
   "source": [
    "### "
   ]
  },
  {
   "cell_type": "code",
   "execution_count": null,
   "metadata": {},
   "outputs": [],
   "source": []
  },
  {
   "cell_type": "code",
   "execution_count": null,
   "metadata": {},
   "outputs": [],
   "source": []
  },
  {
   "cell_type": "code",
   "execution_count": null,
   "metadata": {},
   "outputs": [],
   "source": []
  },
  {
   "cell_type": "code",
   "execution_count": 5,
   "metadata": {},
   "outputs": [
    {
     "name": "stdout",
     "output_type": "stream",
     "text": [
      "When the troop of advisers had retired, Lu Su came in, saying, “\n"
     ]
    },
    {
     "data": {
      "text/html": [
       "<p>Failed to display Jupyter Widget of type <code>Box</code>.</p>\n",
       "<p>\n",
       "  If you're reading this message in the Jupyter Notebook or JupyterLab Notebook, it may mean\n",
       "  that the widgets JavaScript is still loading. If this message persists, it\n",
       "  likely means that the widgets JavaScript library is either not installed or\n",
       "  not enabled. See the <a href=\"https://ipywidgets.readthedocs.io/en/stable/user_install.html\">Jupyter\n",
       "  Widgets Documentation</a> for setup instructions.\n",
       "</p>\n",
       "<p>\n",
       "  If you're reading this message in another frontend (for example, a static\n",
       "  rendering on GitHub or <a href=\"https://nbviewer.jupyter.org/\">NBViewer</a>),\n",
       "  it may mean that your frontend doesn't currently support widgets.\n",
       "</p>\n"
      ],
      "text/plain": [
       "Box(children=(Button(button_style='info', description='W', layout=Layout(height='40px', max_width='40px', min_width='40px'), style=ButtonStyle(), tooltip='0'), Button(button_style='info', description='h', layout=Layout(height='40px', max_width='40px', min_width='40px'), style=ButtonStyle(), tooltip='1'), Button(button_style='info', description='e', layout=Layout(height='40px', max_width='40px', min_width='40px'), style=ButtonStyle(), tooltip='2'), Button(button_style='info', description='n', layout=Layout(height='40px', max_width='40px', min_width='40px'), style=ButtonStyle(), tooltip='3'), Button(button_style='info', description=' ', layout=Layout(height='40px', max_width='40px', min_width='40px'), style=ButtonStyle(), tooltip='4'), Button(button_style='info', description='t', layout=Layout(height='40px', max_width='40px', min_width='40px'), style=ButtonStyle(), tooltip='5'), Button(button_style='info', description='h', layout=Layout(height='40px', max_width='40px', min_width='40px'), style=ButtonStyle(), tooltip='6'), Button(button_style='info', description='e', layout=Layout(height='40px', max_width='40px', min_width='40px'), style=ButtonStyle(), tooltip='7'), Button(button_style='info', description=' ', layout=Layout(height='40px', max_width='40px', min_width='40px'), style=ButtonStyle(), tooltip='8'), Button(button_style='info', description='t', layout=Layout(height='40px', max_width='40px', min_width='40px'), style=ButtonStyle(), tooltip='9'), Button(button_style='info', description='r', layout=Layout(height='40px', max_width='40px', min_width='40px'), style=ButtonStyle(), tooltip='10'), Button(button_style='info', description='o', layout=Layout(height='40px', max_width='40px', min_width='40px'), style=ButtonStyle(), tooltip='11'), Button(button_style='info', description='o', layout=Layout(height='40px', max_width='40px', min_width='40px'), style=ButtonStyle(), tooltip='12'), Button(button_style='info', description='p', layout=Layout(height='40px', max_width='40px', min_width='40px'), style=ButtonStyle(), tooltip='13'), Button(button_style='info', description=' ', layout=Layout(height='40px', max_width='40px', min_width='40px'), style=ButtonStyle(), tooltip='14'), Button(button_style='info', description='o', layout=Layout(height='40px', max_width='40px', min_width='40px'), style=ButtonStyle(), tooltip='15'), Button(button_style='info', description='f', layout=Layout(height='40px', max_width='40px', min_width='40px'), style=ButtonStyle(), tooltip='16'), Button(button_style='info', description=' ', layout=Layout(height='40px', max_width='40px', min_width='40px'), style=ButtonStyle(), tooltip='17'), Button(button_style='info', description='a', layout=Layout(height='40px', max_width='40px', min_width='40px'), style=ButtonStyle(), tooltip='18'), Button(button_style='info', description='d', layout=Layout(height='40px', max_width='40px', min_width='40px'), style=ButtonStyle(), tooltip='19'), Button(button_style='info', description='v', layout=Layout(height='40px', max_width='40px', min_width='40px'), style=ButtonStyle(), tooltip='20'), Button(button_style='info', description='i', layout=Layout(height='40px', max_width='40px', min_width='40px'), style=ButtonStyle(), tooltip='21'), Button(button_style='info', description='s', layout=Layout(height='40px', max_width='40px', min_width='40px'), style=ButtonStyle(), tooltip='22'), Button(button_style='info', description='e', layout=Layout(height='40px', max_width='40px', min_width='40px'), style=ButtonStyle(), tooltip='23'), Button(button_style='info', description='r', layout=Layout(height='40px', max_width='40px', min_width='40px'), style=ButtonStyle(), tooltip='24'), Button(button_style='info', description='s', layout=Layout(height='40px', max_width='40px', min_width='40px'), style=ButtonStyle(), tooltip='25'), Button(button_style='info', description=' ', layout=Layout(height='40px', max_width='40px', min_width='40px'), style=ButtonStyle(), tooltip='26'), Button(button_style='info', description='h', layout=Layout(height='40px', max_width='40px', min_width='40px'), style=ButtonStyle(), tooltip='27'), Button(button_style='info', description='a', layout=Layout(height='40px', max_width='40px', min_width='40px'), style=ButtonStyle(), tooltip='28'), Button(button_style='info', description='d', layout=Layout(height='40px', max_width='40px', min_width='40px'), style=ButtonStyle(), tooltip='29'), Button(button_style='info', description=' ', layout=Layout(height='40px', max_width='40px', min_width='40px'), style=ButtonStyle(), tooltip='30'), Button(button_style='info', description='r', layout=Layout(height='40px', max_width='40px', min_width='40px'), style=ButtonStyle(), tooltip='31'), Button(button_style='info', description='e', layout=Layout(height='40px', max_width='40px', min_width='40px'), style=ButtonStyle(), tooltip='32'), Button(button_style='info', description='t', layout=Layout(height='40px', max_width='40px', min_width='40px'), style=ButtonStyle(), tooltip='33'), Button(button_style='info', description='i', layout=Layout(height='40px', max_width='40px', min_width='40px'), style=ButtonStyle(), tooltip='34'), Button(button_style='info', description='r', layout=Layout(height='40px', max_width='40px', min_width='40px'), style=ButtonStyle(), tooltip='35'), Button(button_style='info', description='e', layout=Layout(height='40px', max_width='40px', min_width='40px'), style=ButtonStyle(), tooltip='36'), Button(button_style='info', description='d', layout=Layout(height='40px', max_width='40px', min_width='40px'), style=ButtonStyle(), tooltip='37'), Button(button_style='info', description=',', layout=Layout(height='40px', max_width='40px', min_width='40px'), style=ButtonStyle(), tooltip='38'), Button(button_style='info', description=' ', layout=Layout(height='40px', max_width='40px', min_width='40px'), style=ButtonStyle(), tooltip='39'), Button(button_style='info', description='L', layout=Layout(height='40px', max_width='40px', min_width='40px'), style=ButtonStyle(), tooltip='40'), Button(button_style='info', description='u', layout=Layout(height='40px', max_width='40px', min_width='40px'), style=ButtonStyle(), tooltip='41'), Button(button_style='info', description=' ', layout=Layout(height='40px', max_width='40px', min_width='40px'), style=ButtonStyle(), tooltip='42'), Button(button_style='info', description='S', layout=Layout(height='40px', max_width='40px', min_width='40px'), style=ButtonStyle(), tooltip='43'), Button(button_style='info', description='u', layout=Layout(height='40px', max_width='40px', min_width='40px'), style=ButtonStyle(), tooltip='44'), Button(button_style='info', description=' ', layout=Layout(height='40px', max_width='40px', min_width='40px'), style=ButtonStyle(), tooltip='45'), Button(button_style='info', description='c', layout=Layout(height='40px', max_width='40px', min_width='40px'), style=ButtonStyle(), tooltip='46'), Button(button_style='info', description='a', layout=Layout(height='40px', max_width='40px', min_width='40px'), style=ButtonStyle(), tooltip='47'), Button(button_style='info', description='m', layout=Layout(height='40px', max_width='40px', min_width='40px'), style=ButtonStyle(), tooltip='48'), Button(button_style='info', description='e', layout=Layout(height='40px', max_width='40px', min_width='40px'), style=ButtonStyle(), tooltip='49'), Button(button_style='info', description=' ', layout=Layout(height='40px', max_width='40px', min_width='40px'), style=ButtonStyle(), tooltip='50'), Button(button_style='info', description='i', layout=Layout(height='40px', max_width='40px', min_width='40px'), style=ButtonStyle(), tooltip='51'), Button(button_style='info', description='n', layout=Layout(height='40px', max_width='40px', min_width='40px'), style=ButtonStyle(), tooltip='52'), Button(button_style='info', description=',', layout=Layout(height='40px', max_width='40px', min_width='40px'), style=ButtonStyle(), tooltip='53'), Button(button_style='info', description=' ', layout=Layout(height='40px', max_width='40px', min_width='40px'), style=ButtonStyle(), tooltip='54'), Button(button_style='info', description='s', layout=Layout(height='40px', max_width='40px', min_width='40px'), style=ButtonStyle(), tooltip='55'), Button(button_style='info', description='a', layout=Layout(height='40px', max_width='40px', min_width='40px'), style=ButtonStyle(), tooltip='56'), Button(button_style='info', description='y', layout=Layout(height='40px', max_width='40px', min_width='40px'), style=ButtonStyle(), tooltip='57'), Button(button_style='info', description='i', layout=Layout(height='40px', max_width='40px', min_width='40px'), style=ButtonStyle(), tooltip='58'), Button(button_style='info', description='n', layout=Layout(height='40px', max_width='40px', min_width='40px'), style=ButtonStyle(), tooltip='59'), Button(button_style='info', description='g', layout=Layout(height='40px', max_width='40px', min_width='40px'), style=ButtonStyle(), tooltip='60'), Button(button_style='info', description=',', layout=Layout(height='40px', max_width='40px', min_width='40px'), style=ButtonStyle(), tooltip='61'), Button(button_style='info', description=' ', layout=Layout(height='40px', max_width='40px', min_width='40px'), style=ButtonStyle(), tooltip='62'), Button(button_style='info', description='“', layout=Layout(height='40px', max_width='40px', min_width='40px'), style=ButtonStyle(), tooltip='63')), layout=Layout(border='3px solid black', display='flex', flex_flow='row wrap', height='', width='800px'))"
      ]
     },
     "metadata": {},
     "output_type": "execute_result"
    },
    {
     "data": {
      "text/html": [
       "<p>Failed to display Jupyter Widget of type <code>Button</code>.</p>\n",
       "<p>\n",
       "  If you're reading this message in the Jupyter Notebook or JupyterLab Notebook, it may mean\n",
       "  that the widgets JavaScript is still loading. If this message persists, it\n",
       "  likely means that the widgets JavaScript library is either not installed or\n",
       "  not enabled. See the <a href=\"https://ipywidgets.readthedocs.io/en/stable/user_install.html\">Jupyter\n",
       "  Widgets Documentation</a> for setup instructions.\n",
       "</p>\n",
       "<p>\n",
       "  If you're reading this message in another frontend (for example, a static\n",
       "  rendering on GitHub or <a href=\"https://nbviewer.jupyter.org/\">NBViewer</a>),\n",
       "  it may mean that your frontend doesn't currently support widgets.\n",
       "</p>\n"
      ],
      "text/plain": [
       "Button(button_style='warning', description='submit', layout=Layout(height='40px', min_width='40px'), style=ButtonStyle())"
      ]
     },
     "metadata": {},
     "output_type": "execute_result"
    }
   ],
   "source": [
    "b1 = LabelSpeaker(talks, progress=3263)"
   ]
  }
 ],
 "metadata": {
  "kernelspec": {
   "display_name": "Python 3",
   "language": "python",
   "name": "python3"
  },
  "language_info": {
   "codemirror_mode": {
    "name": "ipython",
    "version": 3
   },
   "file_extension": ".py",
   "mimetype": "text/x-python",
   "name": "python",
   "nbconvert_exporter": "python",
   "pygments_lexer": "ipython3",
   "version": "3.6.4"
  }
 },
 "nbformat": 4,
 "nbformat_minor": 2
}
