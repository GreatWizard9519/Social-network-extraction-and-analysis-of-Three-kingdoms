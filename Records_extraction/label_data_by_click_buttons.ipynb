{
 "cells": [
  {
   "cell_type": "markdown",
   "metadata": {},
   "source": [
    "# Label speaker by click buttons\n",
    "\n",
    "By LongGang Pang\n",
    "\n",
    "Try to use the widgets in jupyter notebook to design one software to label the data using clicking on \n",
    "buttons."
   ]
  },
  {
   "cell_type": "code",
   "execution_count": 1,
   "metadata": {},
   "outputs": [],
   "source": [
    "from sanguozhi import talks"
   ]
  },
  {
   "cell_type": "code",
   "execution_count": 2,
   "metadata": {},
   "outputs": [
    {
     "name": "stderr",
     "output_type": "stream",
     "text": [
      "/Users/zhangchenhan/anaconda3/lib/python3.6/site-packages/IPython/html.py:14: ShimWarning: The `IPython.html` package has been deprecated since IPython 4.0. You should import from `notebook` instead. `IPython.html.widgets` has moved to `ipywidgets`.\n",
      "  \"`IPython.html.widgets` has moved to `ipywidgets`.\", ShimWarning)\n"
     ]
    }
   ],
   "source": [
    "from ipywidgets import *\n",
    "from IPython.display import display\n",
    "from IPython.html import widgets\n",
    "from IPython.display import clear_output\n",
    "import json\n",
    "import ast\n",
    "# displaying the labelling widget\n",
    "##text = widgets.Text(description=\"Label the speaker by clicking buttons\", width=200)\n",
    "##display(text)"
   ]
  },
  {
   "cell_type": "code",
   "execution_count": 3,
   "metadata": {},
   "outputs": [],
   "source": [
    "def check_existence(sentence, idx, saved_file=\"label_sanguozhi.txt\"):\n",
    "    speakers = []\n",
    "    contexts = []\n",
    "    combined_res = [] \n",
    "    # combine N speakers with M contexts to get N*M examples\n",
    "    with open(saved_file, \"r\") as f:\n",
    "        lines = f.readlines()\n",
    "        for line in lines:\n",
    "            #res = json.loads(line)\n",
    "            res = ast.literal_eval(line)\n",
    "            speakers.append(res['speaker'])\n",
    "            ctx = res['context']\n",
    "            ctx_left = ctx[:res[\"istart\"]]\n",
    "            ctx_right = ctx[res[\"iend\"]:]\n",
    "            contexts.append([ctx_left, ctx_right, res[\"istart\"]])\n",
    "            \n",
    "    for speaker in speakers:\n",
    "        for ctx in contexts:\n",
    "            try:\n",
    "                new_ctx = ctx[0] + speaker + ctx[1]\n",
    "                istart = ctx[2]\n",
    "                new_iend = istart + len(speaker)\n",
    "                res = {'uid':0, \n",
    "                   'context':new_ctx,\n",
    "                   'speaker':speaker,\n",
    "                   'istart':istart, \n",
    "                   'iend':new_iend}\n",
    "                combined_res.append(res)\n",
    "                #print(res)\n",
    "                if sentence == res['context']:\n",
    "                    print(\"This item exist:\", sentence)\n",
    "                    res['uid'] = idx\n",
    "                    return True, res\n",
    "            except:\n",
    "                continue\n",
    "    #print(combined_res)\n",
    "    return False, None\n",
    "\n",
    "#check_existence(\"fdsa\", 0)"
   ]
  },
  {
   "cell_type": "code",
   "execution_count": 4,
   "metadata": {},
   "outputs": [],
   "source": [
    "class ToButtons(object):\n",
    "    def __init__(self, input_str):\n",
    "        self.input_str = input_str\n",
    "        self.res = None\n",
    "        self.buttons = []\n",
    "        self.pos_labels = []\n",
    "        item_layout = Layout(height='40px', min_width='40px', max_width='40px')\n",
    "        items = [Button(layout=item_layout, \n",
    "                        description=input_str[i],\n",
    "                        tooltip = str(i),\n",
    "                        button_style='info')\n",
    "                 for i in range(len(input_str))]\n",
    "        print(input_str)\n",
    "        \n",
    "        box_layout = Layout(\n",
    "                    border='3px solid black',\n",
    "                    width='800px',\n",
    "                    height='',\n",
    "                    flex_flow='row wrap',\n",
    "                    display='flex')\n",
    "        carousel = Box(children=items, layout=box_layout)\n",
    "        display(carousel)\n",
    "        \n",
    "        for item in items[:-2]:\n",
    "            item.on_click(self.on_button_clicked)\n",
    "        \n",
    "            \n",
    "    # function to deal with the checkbox update button       \n",
    "    def on_button_clicked(self, b):\n",
    "        print(b.tooltip)\n",
    "        self.pos_labels.append(int(b.tooltip))\n",
    "        if len(self.pos_labels) > 2:\n",
    "            #raise ValueError(\"only click the start and the end word\")\n",
    "            print(\"Warning: click more than 2 times, will use the last click \\\n",
    "                  as the end of the label position\")\n",
    "            \n",
    "    def return_results(self):\n",
    "        if len(self.pos_labels) == 0:\n",
    "            self.pos_labels.append(-1)\n",
    "        return self.input_str, self.pos_labels[0], self.pos_labels[-1]+1\n",
    "\n",
    "\n",
    "    \n",
    "class LabelSpeaker(object):\n",
    "    def __init__(self, talk_list, progress=0, save_to='label_sanguozhi.txt'):\n",
    "        self.progress = progress\n",
    "        self.saving_path = save_to\n",
    "        self.talk_list = talk_list\n",
    "        self.sentence_buttons = ToButtons(talk_list[self.progress]['context'])\n",
    "        self.submit_layout = Layout(height='40px', min_width='40px')\n",
    "        self.submit = Button(layout=self.submit_layout, \n",
    "                        description=\"submit\",\n",
    "                       button_style='warning')\n",
    "        self.submit.on_click(self.on_button_submit)\n",
    "        display(self.submit)        \n",
    "\n",
    "        \n",
    "    def save_one_item(self, progress, sentence, istart, iend):\n",
    "        speaker = None\n",
    "        if istart != -1: speaker = sentence[istart:iend]\n",
    "        res = {'uid':progress, 'context':sentence,\n",
    "               'speaker':speaker,\n",
    "               'istart':istart, 'iend':iend}\n",
    "        with open(self.saving_path, 'a') as f:\n",
    "            f.write(res.__repr__())\n",
    "            f.write('\\n')\n",
    "        \n",
    "    def on_button_submit(self, b):\n",
    "        sentence, istart, iend = self.sentence_buttons.return_results()\n",
    "        print(sentence[istart:iend])\n",
    "        self.save_one_item(self.progress, sentence, istart, iend)\n",
    "        clear_output()\n",
    "        while True:\n",
    "            self.progress = self.progress + 1\n",
    "            new_sentence = self.talk_list[self.progress]['context']\n",
    "            existed, res = check_existence(new_sentence, self.progress)\n",
    "            if existed: \n",
    "                self.save_one_item(self.progress, new_sentence,\n",
    "                                      res['istart'], res['iend'])\n",
    "            else:\n",
    "                break\n",
    "        #### after check exist \n",
    "        self.sentence_buttons = ToButtons(new_sentence)\n",
    "        self.submit = Button(layout=self.submit_layout, \n",
    "                        description=\"submit\",\n",
    "                       button_style='warning')\n",
    "        self.submit.on_click(self.on_button_submit)\n",
    "        display(self.submit)"
   ]
  },
  {
   "cell_type": "code",
   "execution_count": 5,
   "metadata": {
    "scrolled": true
   },
   "outputs": [
    {
     "ename": "IndexError",
     "evalue": "list index out of range",
     "traceback": [
      "\u001b[0;31m---------------------------------------------------------------------------\u001b[0m",
      "\u001b[0;31mIndexError\u001b[0m                                Traceback (most recent call last)",
      "\u001b[0;32m<ipython-input-4-9f7885d40a93>\u001b[0m in \u001b[0;36mon_button_submit\u001b[0;34m(self, b)\u001b[0m\n\u001b[1;32m     73\u001b[0m         \u001b[0;32mwhile\u001b[0m \u001b[0;32mTrue\u001b[0m\u001b[0;34m:\u001b[0m\u001b[0;34m\u001b[0m\u001b[0m\n\u001b[1;32m     74\u001b[0m             \u001b[0mself\u001b[0m\u001b[0;34m.\u001b[0m\u001b[0mprogress\u001b[0m \u001b[0;34m=\u001b[0m \u001b[0mself\u001b[0m\u001b[0;34m.\u001b[0m\u001b[0mprogress\u001b[0m \u001b[0;34m+\u001b[0m \u001b[0;36m1\u001b[0m\u001b[0;34m\u001b[0m\u001b[0m\n\u001b[0;32m---> 75\u001b[0;31m             \u001b[0mnew_sentence\u001b[0m \u001b[0;34m=\u001b[0m \u001b[0mself\u001b[0m\u001b[0;34m.\u001b[0m\u001b[0mtalk_list\u001b[0m\u001b[0;34m[\u001b[0m\u001b[0mself\u001b[0m\u001b[0;34m.\u001b[0m\u001b[0mprogress\u001b[0m\u001b[0;34m]\u001b[0m\u001b[0;34m[\u001b[0m\u001b[0;34m'context'\u001b[0m\u001b[0;34m]\u001b[0m\u001b[0;34m\u001b[0m\u001b[0m\n\u001b[0m\u001b[1;32m     76\u001b[0m             \u001b[0mexisted\u001b[0m\u001b[0;34m,\u001b[0m \u001b[0mres\u001b[0m \u001b[0;34m=\u001b[0m \u001b[0mcheck_existence\u001b[0m\u001b[0;34m(\u001b[0m\u001b[0mnew_sentence\u001b[0m\u001b[0;34m,\u001b[0m \u001b[0mself\u001b[0m\u001b[0;34m.\u001b[0m\u001b[0mprogress\u001b[0m\u001b[0;34m)\u001b[0m\u001b[0;34m\u001b[0m\u001b[0m\n\u001b[1;32m     77\u001b[0m             \u001b[0;32mif\u001b[0m \u001b[0mexisted\u001b[0m\u001b[0;34m:\u001b[0m\u001b[0;34m\u001b[0m\u001b[0m\n",
      "\u001b[0;31mIndexError\u001b[0m: list index out of range"
     ],
     "output_type": "error"
    }
   ],
   "source": [
    "b1 = LabelSpeaker(talks, progress=1070)"
   ]
  },
  {
   "cell_type": "code",
   "execution_count": 6,
   "metadata": {},
   "outputs": [],
   "source": [
    "def data_augmentation(saved_file=\"label_sanguozhi.txt\"):\n",
    "    speakers = []\n",
    "    contexts = []\n",
    "    combined_res = [] \n",
    "    # combine N speakers with M contexts to get N*M examples\n",
    "    with open(saved_file, \"r\") as f:\n",
    "        lines = f.readlines()\n",
    "        for line in lines:\n",
    "            res = ast.literal_eval(line)\n",
    "            speakers.append(res['speaker'])\n",
    "            ctx = res['context']\n",
    "            ctx_left = ctx[:res[\"istart\"]]\n",
    "            ctx_right = ctx[res[\"iend\"]:]\n",
    "            contexts.append([ctx_left, ctx_right, res[\"istart\"]])\n",
    "            \n",
    "    uid = 0   \n",
    "    len_truncate = 128\n",
    "    for speaker in speakers:\n",
    "        for ctx in contexts:\n",
    "            try:\n",
    "                new_ctx = ctx[0] + speaker + ctx[1]\n",
    "                istart = ctx[2]\n",
    "                new_iend = istart + len(speaker)\n",
    "                new_speaker = speaker\n",
    "                # truncate the input if the speaker is contained in the last 128 words\n",
    "                if len(new_ctx) > len_truncate and (len(new_ctx)-istart)<len_truncate:\n",
    "                    truncated_ctx = new_ctx[-len_truncate:]\n",
    "                    istart = ctx[2] - (len(new_ctx) - len_truncate)\n",
    "                    new_iend = istart + len(speaker)\n",
    "                    new_speaker = truncated_ctx[istart:new_iend]\n",
    "                res = {'uid':uid, \n",
    "                   'context':new_ctx,\n",
    "                   'speaker':new_speaker,\n",
    "                   'istart':istart, \n",
    "                   'iend':new_iend}\n",
    "                combined_res.append(res)\n",
    "                uid = uid + 1\n",
    "            except:\n",
    "                continue\n",
    "    return combined_res"
   ]
  },
  {
   "cell_type": "code",
   "execution_count": 7,
   "metadata": {},
   "outputs": [],
   "source": [
    "augmented_data = data_augmentation()"
   ]
  },
  {
   "cell_type": "code",
   "execution_count": 9,
   "metadata": {},
   "outputs": [
    {
     "data": {
      "text/plain": [
       "1005082"
      ]
     },
     "execution_count": 9,
     "metadata": {},
     "output_type": "execute_result"
    }
   ],
   "source": [
    "len(augmented_data)"
   ]
  },
  {
   "cell_type": "code",
   "execution_count": 10,
   "metadata": {},
   "outputs": [
    {
     "name": "stdout",
     "output_type": "stream",
     "text": [
      "{'uid': 9900, 'context': ' The king replied, Zhongxiang The king replied, “', 'speaker': 'Zhongxiang', 'istart': -1, 'iend': 9}\n"
     ]
    }
   ],
   "source": [
    "print(augmented_data[9900])"
   ]
  },
  {
   "cell_type": "code",
   "execution_count": 11,
   "metadata": {},
   "outputs": [
    {
     "data": {
      "text/html": [
       "<p>Failed to display Jupyter Widget of type <code>HBox</code>.</p>\n",
       "<p>\n",
       "  If you're reading this message in the Jupyter Notebook or JupyterLab Notebook, it may mean\n",
       "  that the widgets JavaScript is still loading. If this message persists, it\n",
       "  likely means that the widgets JavaScript library is either not installed or\n",
       "  not enabled. See the <a href=\"https://ipywidgets.readthedocs.io/en/stable/user_install.html\">Jupyter\n",
       "  Widgets Documentation</a> for setup instructions.\n",
       "</p>\n",
       "<p>\n",
       "  If you're reading this message in another frontend (for example, a static\n",
       "  rendering on GitHub or <a href=\"https://nbviewer.jupyter.org/\">NBViewer</a>),\n",
       "  it may mean that your frontend doesn't currently support widgets.\n",
       "</p>\n"
      ],
      "text/plain": [
       "HBox(children=(IntProgress(value=0, max=1005082), HTML(value='')))"
      ]
     },
     "metadata": {},
     "output_type": "execute_result"
    },
    {
     "name": "stdout",
     "output_type": "stream",
     "text": [
      "\n"
     ]
    }
   ],
   "source": [
    "from tqdm import tqdm_notebook\n",
    "with open(\"augmented_sanguozhi_speaker.py\", \"w\") as fout:\n",
    "    fout.write(\"speakers=[\")\n",
    "    for item in tqdm_notebook(augmented_data):\n",
    "        fout.write(item.__repr__())\n",
    "        fout.write(',\\n')\n",
    "    fout.write(']')"
   ]
  },
  {
   "cell_type": "code",
   "execution_count": 12,
   "metadata": {},
   "outputs": [],
   "source": [
    "from augmented_sanguozhi_speaker import speakers"
   ]
  },
  {
   "cell_type": "code",
   "execution_count": 13,
   "metadata": {},
   "outputs": [
    {
     "data": {
      "text/plain": [
       "1005082"
      ]
     },
     "execution_count": 13,
     "metadata": {},
     "output_type": "execute_result"
    }
   ],
   "source": [
    "len(speakers)"
   ]
  },
  {
   "cell_type": "code",
   "execution_count": 14,
   "metadata": {},
   "outputs": [
    {
     "ename": "FileNotFoundError",
     "evalue": "[Errno 2] No such file or directory: 'label_sanguo.txt'",
     "traceback": [
      "\u001b[0;31m---------------------------------------------------------------------------\u001b[0m",
      "\u001b[0;31mFileNotFoundError\u001b[0m                         Traceback (most recent call last)",
      "\u001b[0;32m<ipython-input-14-5ec7b6a9d721>\u001b[0m in \u001b[0;36m<module>\u001b[0;34m\u001b[0m\n\u001b[0;32m----> 1\u001b[0;31m \u001b[0;32mfrom\u001b[0m \u001b[0maugment_data\u001b[0m \u001b[0;32mimport\u001b[0m \u001b[0mspeakers\u001b[0m\u001b[0;34m\u001b[0m\u001b[0m\n\u001b[0m",
      "\u001b[0;32m~/PycharmProjects/sanguozhi/augment_data.py\u001b[0m in \u001b[0;36m<module>\u001b[0;34m\u001b[0m\n\u001b[1;32m     54\u001b[0m \u001b[0;34m\u001b[0m\u001b[0m\n\u001b[1;32m     55\u001b[0m \u001b[0;34m\u001b[0m\u001b[0m\n\u001b[0;32m---> 56\u001b[0;31m \u001b[0mspeakers\u001b[0m \u001b[0;34m=\u001b[0m \u001b[0mdata_augmentation\u001b[0m\u001b[0;34m(\u001b[0m\u001b[0;34m)\u001b[0m\u001b[0;34m\u001b[0m\u001b[0m\n\u001b[0m",
      "\u001b[0;32m~/PycharmProjects/sanguozhi/augment_data.py\u001b[0m in \u001b[0;36mdata_augmentation\u001b[0;34m(saved_file)\u001b[0m\n\u001b[1;32m      8\u001b[0m     \u001b[0mcombined_res\u001b[0m \u001b[0;34m=\u001b[0m \u001b[0;34m[\u001b[0m\u001b[0;34m]\u001b[0m\u001b[0;34m\u001b[0m\u001b[0m\n\u001b[1;32m      9\u001b[0m     \u001b[0;31m# combine N speakers with M contexts to get N*M examples\u001b[0m\u001b[0;34m\u001b[0m\u001b[0;34m\u001b[0m\u001b[0m\n\u001b[0;32m---> 10\u001b[0;31m     \u001b[0;32mwith\u001b[0m \u001b[0mopen\u001b[0m\u001b[0;34m(\u001b[0m\u001b[0msaved_file\u001b[0m\u001b[0;34m,\u001b[0m \u001b[0;34m\"r\"\u001b[0m\u001b[0;34m)\u001b[0m \u001b[0;32mas\u001b[0m \u001b[0mf\u001b[0m\u001b[0;34m:\u001b[0m\u001b[0;34m\u001b[0m\u001b[0m\n\u001b[0m\u001b[1;32m     11\u001b[0m         \u001b[0mlines\u001b[0m \u001b[0;34m=\u001b[0m \u001b[0mf\u001b[0m\u001b[0;34m.\u001b[0m\u001b[0mreadlines\u001b[0m\u001b[0;34m(\u001b[0m\u001b[0;34m)\u001b[0m\u001b[0;34m\u001b[0m\u001b[0m\n\u001b[1;32m     12\u001b[0m         \u001b[0;32mfor\u001b[0m \u001b[0mline\u001b[0m \u001b[0;32min\u001b[0m \u001b[0mlines\u001b[0m\u001b[0;34m:\u001b[0m\u001b[0;34m\u001b[0m\u001b[0m\n",
      "\u001b[0;31mFileNotFoundError\u001b[0m: [Errno 2] No such file or directory: 'label_sanguo.txt'"
     ],
     "output_type": "error"
    }
   ],
   "source": [
    "from augment_data import speakers"
   ]
  },
  {
   "cell_type": "code",
   "execution_count": null,
   "metadata": {},
   "outputs": [],
   "source": []
  }
 ],
 "metadata": {
  "kernelspec": {
   "display_name": "Python 3",
   "language": "python",
   "name": "python3"
  },
  "language_info": {
   "codemirror_mode": {
    "name": "ipython",
    "version": 3
   },
   "file_extension": ".py",
   "mimetype": "text/x-python",
   "name": "python",
   "nbconvert_exporter": "python",
   "pygments_lexer": "ipython3",
   "version": "3.6.4"
  }
 },
 "nbformat": 4,
 "nbformat_minor": 2
}
